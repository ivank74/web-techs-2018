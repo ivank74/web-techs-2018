{
 "cells": [
  {
   "cell_type": "markdown",
   "metadata": {},
   "source": [
    "# Задание 2\n",
    "Работа выполнялась в Postman"
   ]
  },
  {
   "cell_type": "markdown",
   "metadata": {},
   "source": [
    "# Request\n",
    "GET https://ru.wikipedia.org/wiki/%D0%A0%D0%B0%D0%BD%D0%B3%D0%B0%D0%BD%D0%B0%D1%82%D1%85%D0%B0 HTTP/1.1\n",
    "Host: ru.wikipedia.org\n",
    "User-Agent: Mozilla/5.0 (X11; U; Linux i686; ru; rv:1.9b5) Gecko/2008050509 Firefox/3.0b5\n",
    "Accept: text/html\n",
    "Connection: close"
   ]
  },
  {
   "cell_type": "markdown",
   "metadata": {},
   "source": [
    "# Response\n"
   ]
  },
  {
   "cell_type": "markdown",
   "metadata": {},
   "source": [
    "Accept-Ranges →bytes\n",
    "Age →13072\n",
    "Backend-Timing →D=185992 t=1538751410497128\n",
    "Cache-Control →private, s-maxage=0, max-age=0, must-revalidate\n",
    "Connection →close\n",
    "Content-Encoding →gzip\n",
    "Content-Length →33078\n",
    "Content-Type →text/html; charset=UTF-8\n",
    "Content-language →ru\n",
    "Date →Fri, 05 Oct 2018 18:34:43 GMT\n",
    "Last-Modified →Fri, 05 Oct 2018 14:55:58 GMT\n",
    "P3P →CP=\"This is not a P3P policy! See https://ru.wikipedia.org/wiki/%D0%A1%D0%BB%D1%83%D0%B6%D0%B5%D0%B1%D0%BD%D0%B0%D1%8F:CentralAutoLogin/P3P for more info.\"\n",
    "Server →mw2164.codfw.wmnet\n",
    "Strict-Transport-Security →max-age=106384710; includeSubDomains; preload\n",
    "Vary →Accept-Encoding,Cookie,Authorization\n",
    "Via →1.1 varnish (Varnish/5.1), 1.1 varnish (Varnish/5.1), 1.1 varnish (Varnish/5.1)\n",
    "X-Analytics →ns=0;page_id=2449222;WMF-Last-Access=05-Oct-2018;WMF-Last-Access-Global=05-Oct-2018;https=1\n",
    "X-Cache →cp2004 pass, cp3030 hit/9, cp3032 hit/49\n",
    "X-Cache-Status →hit-front\n",
    "X-Client-IP →5.189.57.149\n",
    "X-Content-Type-Options →nosniff\n",
    "X-Powered-By →HHVM/3.18.6-dev\n",
    "X-Varnish →426907322, 495784883 492407437, 128323474 906134512"
   ]
  },
  {
   "cell_type": "markdown",
   "metadata": {},
   "source": [
    "# Description\n",
    "Протокол - HTTP\n",
    "Версия - 1.1\n",
    "Код состояния - 200 (ОК)"
   ]
  }
 ],
 "metadata": {
  "kernelspec": {
   "display_name": "Python 3",
   "language": "python",
   "name": "python3"
  },
  "language_info": {
   "codemirror_mode": {
    "name": "ipython",
    "version": 3
   },
   "file_extension": ".py",
   "mimetype": "text/x-python",
   "name": "python",
   "nbconvert_exporter": "python",
   "pygments_lexer": "ipython3",
   "version": "3.7.0"
  }
 },
 "nbformat": 4,
 "nbformat_minor": 2
}
