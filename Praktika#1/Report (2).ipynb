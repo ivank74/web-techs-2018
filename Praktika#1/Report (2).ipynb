{
 "cells": [
  {
   "cell_type": "markdown",
   "metadata": {},
   "source": [
    "# Практическая работа №1\n",
    "\n",
    "Задание 1 В созданной директории следующие файлы имеют такое содержимое: 1) Файл index.html Относительная ссылка Абсолютная ссылка\n",
    "\n",
    "2) Файл about.html Относительная ссылка Абсолютная ссылка\n",
    "\n",
    "P.S. В данном задании относительные ссылки - ссылки относительно текущего файла, а абсолютные - абсолютные по месторасположению на диске."
   ]
  },
  {
   "cell_type": "markdown",
   "metadata": {},
   "source": [
    "# Задание 2\n",
    "Работа выполнялась в Postman В задании указано отправить запрос, при отправке запросов приходили ответы. Данные в ответах имели структуру страниц, написанных на языке html. Также в отчет добавлен список headers. "
   ]
  },
  {
   "cell_type": "markdown",
   "metadata": {},
   "source": [
    "# Request\n",
    "GET https://ru.wikipedia.org/wiki/%D0%A0%D0%B0%D0%BD%D0%B3%D0%B0%D0%BD%D0%B0%D1%82%D1%85%D0%B0 HTTP/1.1\n",
    "Host: ru.wikipedia.org\n",
    "User-Agent: Mozilla/5.0 (X11; U; Linux i686; ru; rv:1.9b5) Gecko/2008050509 Firefox/3.0b5\n",
    "Accept: text/html\n",
    "Connection: close"
   ]
  },
  {
   "cell_type": "markdown",
   "metadata": {},
   "source": [
    "# Response\n",
    "Accept-Ranges →bytes\n",
    "Age →13072\n",
    "Backend-Timing →D=185992 t=1538751410497128\n",
    "Cache-Control →private, s-maxage=0, max-age=0, must-revalidate\n",
    "Connection →close\n",
    "Content-Encoding →gzip\n",
    "Content-Length →33078\n",
    "Content-Type →text/html; charset=UTF-8\n",
    "Content-language →ru\n",
    "Date →Fri, 05 Oct 2018 18:34:43 GMT\n",
    "Last-Modified →Fri, 05 Oct 2018 14:55:58 GMT\n",
    "P3P →CP=\"This is not a P3P policy! See https://ru.wikipedia.org/wiki/%D0%A1%D0%BB%D1%83%D0%B6%D0%B5%D0%B1%D0%BD%D0%B0%D1%8F:CentralAutoLogin/P3P for more info.\"\n",
    "Server →mw2164.codfw.wmnet\n",
    "Strict-Transport-Security →max-age=106384710; includeSubDomains; preload\n",
    "Vary →Accept-Encoding,Cookie,Authorization\n",
    "Via →1.1 varnish (Varnish/5.1), 1.1 varnish (Varnish/5.1), 1.1 varnish (Varnish/5.1)\n",
    "X-Analytics →ns=0;page_id=2449222;WMF-Last-Access=05-Oct-2018;WMF-Last-Access-Global=05-Oct-2018;https=1\n",
    "X-Cache →cp2004 pass, cp3030 hit/9, cp3032 hit/49\n",
    "X-Cache-Status →hit-front\n",
    "X-Client-IP →5.189.57.149\n",
    "X-Content-Type-Options →nosniff\n",
    "X-Powered-By →HHVM/3.18.6-dev\n",
    "X-Varnish →426907322, 495784883 492407437, 128323474 906134512"
   ]
  },
  {
   "cell_type": "markdown",
   "metadata": {},
   "source": [
    "# Описание работы HTTP в этом случае\n",
    "Протокол - HTTP\n",
    "Версия - 1.1\n",
    "Код состояния - 200 (ОК)"
   ]
  },
  {
   "cell_type": "markdown",
   "metadata": {},
   "source": [
    "# Задание 3\n",
    "Для выполнения задания использовал Postman. В задании нужно отправить запросы на http://httpbin.org, проанализировать ответ и код состояния. Описать работу HTTP протокола в каждом запросе. Данные в ответах имели структуру страниц, написанных на языке html. Также в отчет добавлен список headers. "
   ]
  },
  {
   "cell_type": "markdown",
   "metadata": {},
   "source": [
    "# /ip\n",
    "Status: 200 OK\n",
    "В теле запроса видим свой ip адрес\n",
    "Body\n",
    "{\"origin\": \"5.189.57.149\"}\n",
    "\n",
    "Headers\n",
    "\n",
    "Access-Control-Allow-Credentials →true\n",
    "Access-Control-Allow-Origin →*\n",
    "Connection →keep-alive\n",
    "Content-Length →31\n",
    "Content-Type →application/json\n",
    "Date →Fri, 05 Oct 2018 18:43:28 GMT\n",
    "Server →gunicorn/19.9.0\n",
    "Via →1.1 vegur\n",
    "\n"
   ]
  },
  {
   "cell_type": "markdown",
   "metadata": {},
   "source": [
    "# /get\n",
    "Status: 200 OK\n",
    "\n",
    "body\n",
    "{\n",
    "    \"args\": {\n",
    "        \"1\": \"2\",\n",
    "        \"2/0\": \"\",\n",
    "        \"error\": \"True HTTP/1.1\",\n",
    "        \"foo\": \"bar\"\n",
    "    },\n",
    "    \"headers\": {\n",
    "        \"Accept\": \"*/*\",\n",
    "        \"Accept-Encoding\": \"gzip, deflate\",\n",
    "        \"Cache-Control\": \"no-cache\",\n",
    "        \"Connection\": \"close\",\n",
    "        \"Host\": \"httpbin.org\",\n",
    "        \"Postman-Token\": \"88709831-3f16-44ab-b5d6-185657f93707\",\n",
    "        \"User-Agent\": \"PostmanRuntime/7.3.0\"\n",
    "    },\n",
    "    \"origin\": \"5.189.57.149\",\n",
    "    \"url\": \"http://httpbin.org/get?foo=bar&1=2&2%2F0&error=True HTTP%2F1.1\"\n",
    "}\n",
    "\n",
    "Headers\n",
    "Access-Control-Allow-Credentials →true\n",
    "Access-Control-Allow-Origin →*\n",
    "Connection →keep-alive\n",
    "Content-Length →481\n",
    "Content-Type →application/json\n",
    "Date →Fri, 05 Oct 2018 19:06:52 GMT\n",
    "Server →gunicorn/19.9.0\n",
    "Via →1.1 vegur\n"
   ]
  },
  {
   "cell_type": "markdown",
   "metadata": {},
   "source": [
    "# /post\n",
    "Status: 200 OK\n",
    "body\n",
    "{\n",
    "    \"args\": {},\n",
    "    \"data\": \"\",\n",
    "    \"files\": {},\n",
    "    \"form\": {},\n",
    "    \"headers\": {\n",
    "        \"Accept\": \"*/*\",\n",
    "        \"Accept-Encoding\": \"gzip, deflate\",\n",
    "        \"Cache-Control\": \"no-cache\",\n",
    "        \"Connection\": \"close\",\n",
    "        \"Content-Length\": \"0\",\n",
    "        \"Content-Type\": \"application/x-www-form-urlencoded\",\n",
    "        \"Cookie\": \"country=\\\"Ru HTTP/1.1\\\"\",\n",
    "        \"Host\": \"httpbin.org\",\n",
    "        \"Postman-Token\": \"7730f49d-6843-4044-9286-015ec79c00bf\",\n",
    "        \"User-Agent\": \"PostmanRuntime/7.3.0\"\n",
    "    },\n",
    "    \"json\": null,\n",
    "    \"origin\": \"5.189.57.149\",\n",
    "    \"url\": \"http://httpbin.org/post\"\n",
    "}\n",
    "\n",
    "Headers\n",
    "Access-Control-Allow-Credentials →true\n",
    "Access-Control-Allow-Origin →*\n",
    "Connection →keep-alive\n",
    "Content-Length →551\n",
    "Content-Type →application/json\n",
    "Date →Fri, 05 Oct 2018 20:10:54 GMT\n",
    "Server →gunicorn/19.9.0\n",
    "Via →1.1 vegur"
   ]
  },
  {
   "cell_type": "markdown",
   "metadata": {},
   "source": [
    "# /cookies/set\n",
    "\n",
    "Status: 200 OK\n",
    "Добавили cookies\n",
    "body\n",
    "{\n",
    "    \"cookies\": {\n",
    "        \"country\": \"Ru HTTP/1.1\"\n",
    "    }\n",
    "}\n",
    "Headers\n",
    "Access-Control-Allow-Credentials →true\n",
    "Access-Control-Allow-Origin →*\n",
    "Connection →keep-alive\n",
    "Content-Length →52\n",
    "Content-Type →application/json\n",
    "Date →Fri, 05 Oct 2018 19:19:04 GMT\n",
    "Server →gunicorn/19.9.0\n",
    "Via →1.1 vegur\n"
   ]
  },
  {
   "cell_type": "markdown",
   "metadata": {},
   "source": [
    "# /cookies\n",
    "\n",
    "Status: 200 OK\n",
    "Смотрим cookies добавленный в предудущем задании\n",
    "body\n",
    "{\n",
    "    \"cookies\": {\n",
    "        \"country\": \"Ru HTTP/1.1\"\n",
    "    }\n",
    "}\n",
    "Headers\n",
    "Access-Control-Allow-Credentials →true\n",
    "Access-Control-Allow-Origin →*\n",
    "Connection →keep-alive\n",
    "Content-Length →52\n",
    "Content-Type →application/json\n",
    "Date →Fri, 05 Oct 2018 20:13:57 GMT\n",
    "Server →gunicorn/19.9.0\n",
    "Via →1.1 vegur\n"
   ]
  },
  {
   "cell_type": "markdown",
   "metadata": {},
   "source": [
    "# /redirect\n",
    "Status: 200 OK\n",
    "\n",
    "body\n",
    "{ \"args\": {}, \n",
    "\"headers\": \n",
    "{ \"Accept\": \"/\", \n",
    "\"Accept-Encoding\": \"gzip, deflate\", \n",
    "\"Accept-Language\": \"ru-RU,ru;q=0.9,en-US;q=0.8,en;q=0.7\", \n",
    "\"Cache-Control\": \"no-cache\",\n",
    "\"Connection\": \"close\", \"Cookie\": \"country=Ru\",\n",
    "\"Host\": \"httpbin.org\",\n",
    "\"Postman-Token\": \"51676ae1-99cd-8e83-e941-4f4eecb7aabe\",\n",
    "\"User-Agent\": \"Mozilla/5.0 (Windows NT 10.0; Win64; x64) AppleWebKit/537.36 (KHTML, like Gecko) Chrome/69.0.3497.100 Safari/537.36\" }, \"origin\": \"5.189.57.149\", \"url\": \"http://httpbin.org/get\" }\n",
    "Headers\n",
    "Access-Control-Allow-Credentials →true\n",
    "Access-Control-Allow-Origin →*\n",
    "Connection →keep-alive\n",
    "Content-Length →233\n",
    "Content-Type →text/html\n",
    "Date →Fri, 05 Oct 2018 20:16:43 GMT\n",
    "Server →gunicorn/19.9.0\n",
    "Via →1.1 vegur"
   ]
  },
  {
   "cell_type": "markdown",
   "metadata": {},
   "source": [
    "# Задание 4\n",
    "Это страница с простой формой. Тут есть текстовые поля и картинка. Можно сделать post запрос\n"
   ]
  },
  {
   "cell_type": "code",
   "execution_count": null,
   "metadata": {},
   "outputs": [],
   "source": [
    "<!DOCTYPE html>\n",
    "<html>\n",
    " <head>\n",
    "  <meta charset=\"utf-8\">\n",
    "  <title>Простая форма</title>\n",
    " </head>\n",
    " <body> \n",
    " <form action=\"http://httpbin.org/post\" enctype=\"multipart/form-data\" method=\"POST\">\n",
    "  <p><b>Введите ваши персональные данные:</b></p>\n",
    "  <p><textarea name=\"firstname\"></textarea> firstname </p>\n",
    "  <p><textarea name=\"lastname\"></textarea> lastname </p>\n",
    "  <p><textarea name=\"group\"></textarea> group </p>\n",
    "  <p><textarea name=\"message\"></textarea> message </p>\n",
    "  <input type=\"image\" name=\"some name\" src=\"C:\\Programm\\button.jpeg\">\n",
    " </form>\n",
    " </body>\n",
    "</html>"
   ]
  },
  {
   "cell_type": "code",
   "execution_count": null,
   "metadata": {},
   "outputs": [],
   "source": [
    "А вот ответ после ввода информации и отправки запроса {\n",
    "  \"args\": {}, \n",
    "  \"data\": \"\", \n",
    "  \"files\": {}, \n",
    "  \"form\": {\n",
    "    \"firstname\": \"\\u0414\\u0430\\u043d\\u0438\\u0438\\u043b\", \n",
    "    \"group\": \"\\u041d\\u041c\\u0422-362701\", \n",
    "    \"lastname\": \"\\u0412\\u0430\\u043d\\u0434\\u044b\\u0448\\u0435\\u0432\", \n",
    "    \"message\": \"\\u043f\\u0440\\u0438\\u0432\\u0435\\u0442\", \n",
    "    \"some name.x\": \"87\", \n",
    "    \"some name.y\": \"113\"\n",
    "  }, \n",
    "  \"headers\": {\n",
    "    \"Accept\": \"text/html,application/xhtml+xml,application/xml;q=0.9,image/webp,image/apng,*/*;q=0.8\", \n",
    "    \"Accept-Encoding\": \"gzip, deflate\", \n",
    "    \"Accept-Language\": \"ru-RU,ru;q=0.9,en-US;q=0.8,en;q=0.7\", \n",
    "    \"Cache-Control\": \"max-age=0\", \n",
    "    \"Connection\": \"close\", \n",
    "    \"Content-Length\": \"675\", \n",
    "    \"Content-Type\": \"multipart/form-data; boundary=----WebKitFormBoundary6jWrKwHBExuTuXIK\", \n",
    "    \"Cookie\": \"_gauges_unique_year=1; _gauges_unique=1\", \n",
    "    \"Host\": \"httpbin.org\", \n",
    "    \"Origin\": \"null\", \n",
    "    \"Upgrade-Insecure-Requests\": \"1\", \n",
    "    \"User-Agent\": \"Mozilla/5.0 (Windows NT 10.0; Win64; x64) AppleWebKit/537.36 (KHTML, like Gecko) Chrome/70.0.3538.77 Safari/537.36\", \n",
    "    \"X-Compress\": \"null\"\n",
    "  }, \n",
    "  \"json\": null, \n",
    "  \"origin\": \"82.193.155.245\", \n",
    "  \"url\": \"http://httpbin.org/post\"\n",
    "}"
   ]
  }
 ],
 "metadata": {
  "kernelspec": {
   "display_name": "Python 3",
   "language": "python",
   "name": "python3"
  },
  "language_info": {
   "codemirror_mode": {
    "name": "ipython",
    "version": 3
   },
   "file_extension": ".py",
   "mimetype": "text/x-python",
   "name": "python",
   "nbconvert_exporter": "python",
   "pygments_lexer": "ipython3",
   "version": "3.7.0"
  }
 },
 "nbformat": 4,
 "nbformat_minor": 2
}
