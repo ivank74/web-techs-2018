{
 "cells": [
  {
   "cell_type": "markdown",
   "metadata": {},
   "source": [
    "# Практическая работа №1"
   ]
  },
  {
   "cell_type": "markdown",
   "metadata": {},
   "source": [
    "Описание проделанной работы\n",
    "В проделанной работе я воспользовался следующими инструментами: postman, notepad++. При помощи postman'а я создавал различные запросы с различными параметрами, а при помощи notepad++ создал простые страницы html. \n",
    "В заданиях 2 и 3 при отправке запросов приходили ответы. Данные в ответах имели структуру страниц, написанных на языке html. Я специально добавил в отчет список headers. Также отдельно выделил статус ответа."
   ]
  },
  {
   "cell_type": "markdown",
   "metadata": {},
   "source": [
    "Задание 1\n",
    "Создаем в notepad++ 2 html страницы для того чтобы создать относительные и абсолютные ссылки друг на друга.\n",
    "относительные ссылки - ссылки относительно текущего файла.\n",
    "абсолютные - абсолютные по месторасположению на диске."
   ]
  },
  {
   "cell_type": "markdown",
   "metadata": {},
   "source": [
    "В созданной директории следующие файлы имеют такое содержимое: 1) Файл index.html"
   ]
  },
  {
   "cell_type": "code",
   "execution_count": null,
   "metadata": {},
   "outputs": [],
   "source": [
    "<html>\n",
    " <head>\n",
    "  <meta http-equiv=\"content-type\" content=\"text/html; charset=utf-8\">\n",
    "  <title>Ссылки на about.html</title>\n",
    " </head>\n",
    " <body>\n",
    "  <p><a href=\"about/about.html\">Относительная ссылка</a></p>\n",
    "  <p><a href=\"C:\\Projects\\myproject\\about\\about.html\">Абсолютная ссылка</a></p>\n",
    " </body>\n",
    "</html>"
   ]
  },
  {
   "cell_type": "markdown",
   "metadata": {},
   "source": [
    "2) Файл about.html"
   ]
  },
  {
   "cell_type": "code",
   "execution_count": null,
   "metadata": {},
   "outputs": [],
   "source": [
    "<html>\n",
    " <head>\n",
    "  <meta http-equiv=\"content-type\" content=\"text/html; charset=utf-8\">\n",
    "  <title>Ссылки на index.html</title>\n",
    " </head>\n",
    " <body>\n",
    "  <p><a href=\"../index.html\">Относительная ссылка</a></p>\n",
    "  <p><a href=\"C:\\Projects\\myproject\\index.html\">Абсолютная ссылка</a></p>\n",
    " </body>\n",
    "</html>"
   ]
  },
  {
   "cell_type": "markdown",
   "metadata": {},
   "source": [
    "Задание 2\n",
    "Для выполнения задания использовал Postman"
   ]
  },
  {
   "cell_type": "code",
   "execution_count": null,
   "metadata": {},
   "outputs": [],
   "source": [
    "Request\n",
    "GET /wiki/Наполеон HTTP/1.1\n",
    "Host: ru.wikipedia.org\n",
    "User-Agent: Mozilla/5.0 (X11; U; Linux i686; ru; rv:1.9b5) Gecko/2008050509 Firefox/3.0b5\n",
    "Accept: text/html\n",
    "Connection: close\n",
    "\n",
    "Response\n",
    "accept-ranges →bytes\n",
    "age →90766\n",
    "backend-timing →D=112452 t=1537270204481888\n",
    "cache-control →private, s-maxage=0, max-age=0, must-revalidate\n",
    "content-encoding →gzip\n",
    "content-language →ru\n",
    "content-length →45918\n",
    "content-type →text/html; charset=UTF-8\n",
    "date →Fri, 25 Dec 2019 19:51:49 GMT\n",
    "last-modified →Tue, 18 Sep 2018 11:28:57 GMT\n",
    "p3p →CP=\"This is not a P3P policy! See https://ru.wikipedia.org/wiki/%D0%A1%D0%BB%D1%83%D0%B6%D0%B5%D0%B1%D0%BD%D0%B0%D1%8F:CentralAutoLogin/P3P for more info.\"\n",
    "server →mw2271.codfw.wmnet\n",
    "status →200\n",
    "strict-transport-security →max-age=106384710; includeSubDomains; preload\n",
    "vary →Accept-Encoding,Cookie,Authorization\n",
    "via →1.1 varnish (Varnish/5.1), 1.1 varnish (Varnish/5.1), 1.1 varnish (Varnish/5.1)\n",
    "x-analytics →ns=0;page_id=4834862;WMF-Last-Access=21-Sep-2018;WMF-Last-Access-Global=21-Sep-2018;https=1\n",
    "x-cache →cp2013 hit/7, cp3041 hit/3, cp3032 hit/68\n",
    "x-cache-status →hit-front\n",
    "x-client-ip →5.189.57.149\n",
    "x-content-type-options →nosniff\n",
    "x-powered-by →HHVM/3.18.6-dev\n",
    "x-varnish →19154482 212501948, 935049178 899165884, 1066344142 178931626"
   ]
  },
  {
   "cell_type": "markdown",
   "metadata": {},
   "source": [
    "Нас интересует строчка:\n",
    "status →200\n",
    "Описание работы HTTP в этом случае\n",
    "Протокол - HTTP \n",
    "Версия - 1.1 \n",
    "Код ответа - 200 (ОК) \n",
    "Это обозначает что соединение установлено и ошибок не возникло"
   ]
  },
  {
   "cell_type": "markdown",
   "metadata": {},
   "source": [
    "Задание 3\n",
    "Для выполнения задания использовал Postman. \n",
    "В задании нужно отправить запросы на http://httpbin.org, проанализировать ответ и код состояния. Описать работу HTTP протокола в каждом запросе."
   ]
  },
  {
   "cell_type": "markdown",
   "metadata": {},
   "source": [
    "Запрашиваем ip адресс и получаем его при помощи\n",
    "1) /ip"
   ]
  },
  {
   "cell_type": "code",
   "execution_count": null,
   "metadata": {},
   "outputs": [],
   "source": [
    "\n",
    "Status: 200 OK \n",
    "В теле запроса видим свой ip адрес\n",
    "\n",
    "body\n",
    "{\n",
    "    \"origin\": \"5.189.57.1495\"\n",
    "}\n",
    "\n",
    "headers\n",
    "access-control-allow-credentials →true\n",
    "access-control-allow-origin →*\n",
    "connection →keep-alive\n",
    "content-length →33\n",
    "content-type →application/json\n",
    "date →Fri, 25 Dec 2019 20:40:53 GMT\n",
    "server →gunicorn/19.9.0\n",
    "via →1.1 vegur"
   ]
  },
  {
   "cell_type": "markdown",
   "metadata": {},
   "source": [
    "Запрашиваем содержимое ресурса при помощи \n",
    "2) /get"
   ]
  },
  {
   "cell_type": "code",
   "execution_count": null,
   "metadata": {},
   "outputs": [],
   "source": [
    "\n",
    "Status: 200 OK\n",
    "\n",
    "body\n",
    "{\n",
    "    \"args\": {\n",
    "        \"1\": \"2\",\n",
    "        \"2/0\": \"\",\n",
    "        \"error\": \"True\",\n",
    "        \"foo\": \"bar\"\n",
    "    },\n",
    "    \"headers\": {\n",
    "        \"Accept\": \"*/*\",\n",
    "        \"Accept-Encoding\": \"gzip, deflate\",\n",
    "        \"Accept-Language\": \"ru-RU,ru;q=0.9,en-US;q=0.8,en;q=0.7\",\n",
    "        \"Cache-Control\": \"no-cache\",\n",
    "        \"Connection\": \"close\",\n",
    "        \"Host\": \"httpbin.org\",\n",
    "        \"Postman-Token\": \"c7f30345-61a1-40d4-3aa9-cdc5e7867eba\",\n",
    "        \"User-Agent\": \"Mozilla/5.0 (Windows NT 10.0; Win64; x64) AppleWebKit/537.36 (KHTML, like Gecko) Chrome/69.0.3497.100 Safari/537.36\"\n",
    "    },\n",
    "    \"origin\": \"5.189.57.1495\",\n",
    "    \"url\": \"http://httpbin.org/get?foo=bar&1=2&2%2F0&error=True\"\n",
    "}\n",
    "\n",
    "headers\n",
    "access-control-allow-credentials →true\n",
    "access-control-allow-origin →*\n",
    "connection →keep-alive\n",
    "content-length →621\n",
    "content-type →application/json\n",
    "date →Fri, 25 Dec 2019 20:42:33 GMT\n",
    "server →gunicorn/19.9.0\n",
    "via →1.1 vegur"
   ]
  },
  {
   "cell_type": "markdown",
   "metadata": {},
   "source": [
    "делаем запрос \n",
    "3) /post"
   ]
  },
  {
   "cell_type": "code",
   "execution_count": null,
   "metadata": {},
   "outputs": [],
   "source": [
    "Status: 200 OK\n",
    "\n",
    "body\n",
    "{\n",
    "    \"args\": {\n",
    "        \"1\": \"2\",\n",
    "        \"2/0\": \"\",\n",
    "        \"error\": \"True\",\n",
    "        \"foo\": \"bar\"\n",
    "    },\n",
    "    \"data\": \"\",\n",
    "    \"files\": {},\n",
    "    \"form\": {},\n",
    "    \"headers\": {\n",
    "        \"Accept\": \"*/*\",\n",
    "        \"Accept-Encoding\": \"gzip, deflate\",\n",
    "        \"Accept-Language\": \"ru-RU,ru;q=0.9,en-US;q=0.8,en;q=0.7\",\n",
    "        \"Cache-Control\": \"no-cache\",\n",
    "        \"Connection\": \"close\",\n",
    "        \"Content-Length\": \"0\",\n",
    "        \"Content-Type\": \"application/x-www-form-urlencoded\",\n",
    "        \"Cookie\": \"country=Ru\",\n",
    "        \"Host\": \"httpbin.org\",\n",
    "        \"Origin\": \"chrome-extension://fhbjgbiflinjbdggehcddcbncdddomop\",\n",
    "        \"Postman-Token\": \"a07d0837-7956-bbc0-9c2b-62e933c23a64\",\n",
    "        \"User-Agent\": \"Mozilla/5.0 (Windows NT 10.0; Win64; x64) AppleWebKit/537.36 (KHTML, like Gecko) Chrome/69.0.3497.100 Safari/537.36\"\n",
    "    },\n",
    "    \"json\": null,\n",
    "    \"origin\": \"5.189.57.1495\",\n",
    "    \"url\": \"http://httpbin.org/post?foo=bar&1=2&2%2F0=&error=True\"\n",
    "}\n",
    "\n",
    "headers\n",
    "access-control-allow-credentials →true\n",
    "access-control-allow-origin →chrome-extension://fhbjgbiflinjbdggehcddcbncdddomop\n",
    "connection →keep-alive\n",
    "content-length →871\n",
    "content-type →application/json\n",
    "date →Fri, 25 Dec 2019 20:49:21 GMT\n",
    "server →gunicorn/19.9.0\n",
    "via →1.1 vegur"
   ]
  },
  {
   "cell_type": "markdown",
   "metadata": {},
   "source": [
    "Добавили cookies\n",
    "4) /cookies/set"
   ]
  },
  {
   "cell_type": "code",
   "execution_count": null,
   "metadata": {},
   "outputs": [],
   "source": [
    "Status: 200 OK \n",
    "    \n",
    "body\n",
    "{\n",
    "    \"cookies\": {\n",
    "        \"country\": \"Ru\"\n",
    "    }\n",
    "}\n",
    "\n",
    "headers\n",
    "access-control-allow-credentials →true\n",
    "access-control-allow-origin →*\n",
    "connection →keep-alive\n",
    "content-length →43\n",
    "content-type →application/json\n",
    "date →Fri,  25 Dec 2019 20:53:54 GMT\n",
    "server →gunicorn/19.9.0\n",
    "via →1.1 vegur"
   ]
  },
  {
   "cell_type": "markdown",
   "metadata": {},
   "source": [
    "Смотрим кукиз, добавленные в предыдущем задании\n",
    "5) /cookies"
   ]
  },
  {
   "cell_type": "code",
   "execution_count": null,
   "metadata": {},
   "outputs": [],
   "source": [
    "Status: 200 OK \n",
    "\n",
    "body\n",
    "{\n",
    "    \"cookies\": {\n",
    "        \"country\": \"Ru\"\n",
    "    }\n",
    "}\n",
    "\n",
    "headers\n",
    "access-control-allow-credentials →true\n",
    "access-control-allow-origin →*\n",
    "connection →keep-alive\n",
    "content-length →43\n",
    "content-type →application/json\n",
    "date →Fri, 25 Dec 2019 20:57:59 GMT\n",
    "server →gunicorn/19.9.0\n",
    "via →1.1 vegur"
   ]
  },
  {
   "cell_type": "markdown",
   "metadata": {},
   "source": [
    "Создаем запрос\n",
    "6) /redirect"
   ]
  },
  {
   "cell_type": "code",
   "execution_count": null,
   "metadata": {},
   "outputs": [],
   "source": [
    "Status: 200 OK\n",
    "\n",
    "body\n",
    "{\n",
    "    \"args\": {},\n",
    "    \"headers\": {\n",
    "        \"Accept\": \"*/*\",\n",
    "        \"Accept-Encoding\": \"gzip, deflate\",\n",
    "        \"Accept-Language\": \"ru-RU,ru;q=0.9,en-US;q=0.8,en;q=0.7\",\n",
    "        \"Cache-Control\": \"no-cache\",\n",
    "        \"Connection\": \"close\",\n",
    "        \"Cookie\": \"country=Ru\",\n",
    "        \"Host\": \"httpbin.org\",\n",
    "        \"Postman-Token\": \"51676ae1-99cd-8e83-e941-4f4eecb7aabe\",\n",
    "        \"User-Agent\": \"Mozilla/5.0 (Windows NT 10.0; Win64; x64) AppleWebKit/537.36 (KHTML, like Gecko) Chrome/69.0.3497.100 Safari/537.36\"\n",
    "    },\n",
    "    \"origin\": \"5.189.57.1495\",\n",
    "    \"url\": \"http://httpbin.org/get\"\n",
    "}\n",
    "\n",
    "headers\n",
    "access-control-allow-credentials →true\n",
    "access-control-allow-origin →*\n",
    "connection →keep-alive\n",
    "content-length →548\n",
    "content-type →application/json\n",
    "date →Fri, 25 Dec 2019 20:57:01 GMT\n",
    "server →gunicorn/19.9.0\n",
    "via →1.1 vegur"
   ]
  },
  {
   "cell_type": "markdown",
   "metadata": {},
   "source": [
    "Задание 4\n",
    "Это страница с простой формой. Тут есть текстовые поля и картинка. Можно сделать post запрос."
   ]
  },
  {
   "cell_type": "code",
   "execution_count": null,
   "metadata": {},
   "outputs": [],
   "source": [
    "<!DOCTYPE html>\n",
    "<html>\n",
    " <head>\n",
    "  <meta charset=\"utf-8\">\n",
    "  <title>Простая форма</title>\n",
    " </head>\n",
    " <body> \n",
    " <form action=\"http://httpbin.org/post\" enctype=\"multipart/form-data\" method=\"POST\">\n",
    "  <p><b>Введите ваши персональные данные:</b></p>\n",
    "  <p><textarea name=\"firstname\"></textarea> firstname </p>\n",
    "  <p><textarea name=\"lastname\"></textarea> lastname </p>\n",
    "  <p><textarea name=\"group\"></textarea> group </p>\n",
    "  <p><textarea name=\"message\"></textarea> message </p>\n",
    "  <input type=\"image\" name=\"some name\" src=\"C:\\Projects\\myproject\\img.PNG\">\n",
    " </form>\n",
    " </body>\n",
    "</html>"
   ]
  },
  {
   "cell_type": "markdown",
   "metadata": {},
   "source": [
    "А вот ответ после ввода информации и отправки запроса \n",
    "{\n",
    "  \"args\": {}, \n",
    "  \"data\": \"\", \n",
    "  \"files\": {}, \n",
    "  \"form\": {\n",
    "    \"firstname\": \"\\u0414\\u0430\\u043d\\u0438\\u0438\\u043b\", \n",
    "    \"group\": \"\\u041d\\u041c\\u0422-362701\", \n",
    "    \"lastname\": \"\\u0412\\u0430\\u043d\\u0434\\u044b\\u0448\\u0435\\u0432\", \n",
    "    \"message\": \"\\u043f\\u0440\\u0438\\u0432\\u0435\\u0442\", \n",
    "    \"some name.x\": \"87\", \n",
    "    \"some name.y\": \"113\"\n",
    "  }, \n",
    "  \"headers\": {\n",
    "    \"Accept\": \"text/html,application/xhtml+xml,application/xml;q=0.9,image/webp,image/apng,*/*;q=0.8\", \n",
    "    \"Accept-Encoding\": \"gzip, deflate\", \n",
    "    \"Accept-Language\": \"ru-RU,ru;q=0.9,en-US;q=0.8,en;q=0.7\", \n",
    "    \"Cache-Control\": \"max-age=0\", \n",
    "    \"Connection\": \"close\", \n",
    "    \"Content-Length\": \"675\", \n",
    "    \"Content-Type\": \"multipart/form-data; boundary=----WebKitFormBoundary6jWrKwHBExuTuXIK\", \n",
    "    \"Cookie\": \"_gauges_unique_year=1; _gauges_unique=1\", \n",
    "    \"Host\": \"httpbin.org\", \n",
    "    \"Origin\": \"null\", \n",
    "    \"Upgrade-Insecure-Requests\": \"1\", \n",
    "    \"User-Agent\": \"Mozilla/5.0 (Windows NT 10.0; Win64; x64) AppleWebKit/537.36 (KHTML, like Gecko) Chrome/70.0.3538.77 Safari/537.36\", \n",
    "    \"X-Compress\": \"null\"\n",
    "  }, \n",
    "  \"json\": null, \n",
    "  \"origin\": \"5.189.57.1495\", \n",
    "  \"url\": \"http://httpbin.org/post\"\n",
    "}"
   ]
  }
 ],
 "metadata": {
  "kernelspec": {
   "display_name": "Python 3",
   "language": "python",
   "name": "python3"
  },
  "language_info": {
   "codemirror_mode": {
    "name": "ipython",
    "version": 3
   },
   "file_extension": ".py",
   "mimetype": "text/x-python",
   "name": "python",
   "nbconvert_exporter": "python",
   "pygments_lexer": "ipython3",
   "version": "3.6.8"
  }
 },
 "nbformat": 4,
 "nbformat_minor": 2
}
