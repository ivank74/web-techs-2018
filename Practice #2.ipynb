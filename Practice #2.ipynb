{
 "cells": [
  {
   "cell_type": "markdown",
   "metadata": {},
   "source": [
    "# Практическая работа №2\n"
   ]
  },
  {
   "cell_type": "markdown",
   "metadata": {},
   "source": [
    "\n",
    "В этой работе на основе данных с https://lectureswww.readthedocs.io/6.www.sync/3.framework/pyramid/4.database.html создаем базу данных.\n",
    "БД состоит из двух таблиц. Первая таблица хранит в себе персональные логин и пароль пользователя веб сервиса. Вторая таблица хранит в себе данные о эмоциях и чувствах, которые пользователь испытал.\n",
    "А также выводим данные из базы данных\n"
   ]
  },
  {
   "cell_type": "markdown",
   "metadata": {},
   "source": [
    "Создаем первую таблицу"
   ]
  },
  {
   "cell_type": "code",
   "execution_count": 1,
   "metadata": {},
   "outputs": [],
   "source": [
    "import sqlalchemy\n",
    "from sqlalchemy import *\n",
    "from sqlalchemy.ext.declarative import *\n",
    "from sqlalchemy.orm import *\n",
    "\n",
    "\n",
    "engine = create_engine('sqlite:///practice2_.db')\n",
    "Session = sessionmaker()\n",
    "Base = declarative_base(bind=engine)\n",
    "\n",
    "class User(Base):\n",
    "    __tablename__ = 'user'\n",
    "    id = Column(Integer, primary_key=True)\n",
    "    name = Column(Text)\n",
    "    login = Column(Text)\n",
    "    password = Column(Text)\n",
    "    \n",
    "    def __repr__(self):\n",
    "        return '{}, {}, {}'.format(self.name, self.login, self.password)"
   ]
  },
  {
   "cell_type": "markdown",
   "metadata": {},
   "source": [
    "Создаем вторую таблицу и связываем таблицы по user.id"
   ]
  },
  {
   "cell_type": "code",
   "execution_count": 2,
   "metadata": {},
   "outputs": [],
   "source": [
    "class Data(Base):\n",
    "    __tablename__ = 'data'\n",
    "    id = Column(Integer, primary_key=True)\n",
    "    emotion = Column(Text)\n",
    "    feeling = Column(Text)\n",
    "    user_id = Column(sqlalchemy.ForeignKey('user.id'))\n",
    "    users = sqlalchemy.orm.relationship(\"User\", backref=\"data\")\n",
    "    \n",
    "    def __repr__(self):\n",
    "        return '{}, {}, {}'.format(self.emotion, self.feeling, self.user_id)"
   ]
  },
  {
   "cell_type": "code",
   "execution_count": 3,
   "metadata": {},
   "outputs": [],
   "source": [
    "Base.metadata.create_all()\n",
    "DBSession = Session(bind=engine)"
   ]
  },
  {
   "cell_type": "code",
   "execution_count": 4,
   "metadata": {},
   "outputs": [
    {
     "data": {
      "text/plain": [
       "[Joker, itsnotajoke@gmail.com, 12345,\n",
       " Joker, itsnotajoke@gmail.com, 12345,\n",
       " Joker, itsnotajoke@gmail.com, 12345,\n",
       " Joker, itsnotajoke@gmail.com, 12345]"
      ]
     },
     "execution_count": 4,
     "metadata": {},
     "output_type": "execute_result"
    }
   ],
   "source": [
    "DBSession.query(User).all()"
   ]
  },
  {
   "cell_type": "code",
   "execution_count": 5,
   "metadata": {},
   "outputs": [
    {
     "data": {
      "text/plain": [
       "[amazement, anger, love, hate, 1,\n",
       " amazement, anger, love, hate, 1,\n",
       " amazement, anger, love, hate, 1,\n",
       " amazement, anger, love, hate, 1]"
      ]
     },
     "execution_count": 5,
     "metadata": {},
     "output_type": "execute_result"
    }
   ],
   "source": [
    "DBSession.query(Data).all()"
   ]
  },
  {
   "cell_type": "markdown",
   "metadata": {},
   "source": [
    "Добавляем информацию в таблицы"
   ]
  },
  {
   "cell_type": "code",
   "execution_count": 6,
   "metadata": {},
   "outputs": [],
   "source": [
    "DBSession.add(User(name=\"Joker\", login=\"itsnotajoke@gmail.com\", password=\"12345\"))\n",
    "DBSession.add(Data(emotion=\"amazement, anger\", feeling=\"love, hate\", user_id=1))\n",
    "DBSession.commit()"
   ]
  },
  {
   "cell_type": "markdown",
   "metadata": {},
   "source": [
    "Выводим информацию "
   ]
  },
  {
   "cell_type": "code",
   "execution_count": 7,
   "metadata": {},
   "outputs": [
    {
     "data": {
      "text/plain": [
       "[(Joker, itsnotajoke@gmail.com, 12345, amazement, anger, love, hate, 1),\n",
       " (Joker, itsnotajoke@gmail.com, 12345, amazement, anger, love, hate, 1),\n",
       " (Joker, itsnotajoke@gmail.com, 12345, amazement, anger, love, hate, 1),\n",
       " (Joker, itsnotajoke@gmail.com, 12345, amazement, anger, love, hate, 1),\n",
       " (Joker, itsnotajoke@gmail.com, 12345, amazement, anger, love, hate, 1)]"
      ]
     },
     "execution_count": 7,
     "metadata": {},
     "output_type": "execute_result"
    }
   ],
   "source": [
    "\n",
    "query = DBSession.query(User, Data).filter(User.id==Data.user_id)\n",
    "query.all()"
   ]
  }
 ],
 "metadata": {
  "kernelspec": {
   "display_name": "Python 3",
   "language": "python",
   "name": "python3"
  },
  "language_info": {
   "codemirror_mode": {
    "name": "ipython",
    "version": 3
   },
   "file_extension": ".py",
   "mimetype": "text/x-python",
   "name": "python",
   "nbconvert_exporter": "python",
   "pygments_lexer": "ipython3",
   "version": "3.6.8"
  }
 },
 "nbformat": 4,
 "nbformat_minor": 2
}
